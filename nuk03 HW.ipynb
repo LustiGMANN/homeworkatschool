{
 "cells": [
  {
   "cell_type": "code",
   "execution_count": 17,
   "metadata": {},
   "outputs": [],
   "source": [
    "#0309-課堂練習-1"
   ]
  },
  {
   "cell_type": "code",
   "execution_count": 18,
   "metadata": {},
   "outputs": [],
   "source": [
    "#議題 : 代購\n",
    "#規劃情境 :Sean在網路上看到許多想要買的商品，無奈只有在國外才能買得到，因此他想透過代購來取得\n",
    "#定義問題 : Sean需要知道自己需要準備多少錢給想要的所有商品"
   ]
  },
  {
   "cell_type": "code",
   "execution_count": 19,
   "metadata": {},
   "outputs": [],
   "source": [
    "#程式思維 : 利用加減乘除與指派變數來算出最後需要的總金額"
   ]
  },
  {
   "cell_type": "code",
   "execution_count": 20,
   "metadata": {},
   "outputs": [],
   "source": [
    "#程式碼如下 :\n",
    "adidas_backpack = 1500\n",
    "adidas_jacket = 1200\n",
    "adidas_shoes = 2200\n",
    "tax = 0.6\n",
    "fee = 50\n",
    "rabatt = 0.85  #if the total price is over 5000, have the rabatt."
   ]
  },
  {
   "cell_type": "code",
   "execution_count": 21,
   "metadata": {},
   "outputs": [
    {
     "name": "stdout",
     "output_type": "stream",
     "text": [
      "4900\n"
     ]
    }
   ],
   "source": [
    "print(adidas_backpack + adidas_jacket + adidas_shoes)  #original price in total"
   ]
  },
  {
   "cell_type": "code",
   "execution_count": 22,
   "metadata": {},
   "outputs": [
    {
     "data": {
      "text/plain": [
       "4900"
      ]
     },
     "execution_count": 22,
     "metadata": {},
     "output_type": "execute_result"
    }
   ],
   "source": [
    "original_price = adidas_backpack + adidas_jacket + adidas_shoes\n",
    "original_price"
   ]
  },
  {
   "cell_type": "code",
   "execution_count": 23,
   "metadata": {},
   "outputs": [
    {
     "data": {
      "text/plain": [
       "7890.0"
      ]
     },
     "execution_count": 23,
     "metadata": {},
     "output_type": "execute_result"
    }
   ],
   "source": [
    "checked_price = original_price*1.6 + fee    #total price without rabatt\n",
    "checked_price"
   ]
  },
  {
   "cell_type": "code",
   "execution_count": 24,
   "metadata": {},
   "outputs": [
    {
     "name": "stdout",
     "output_type": "stream",
     "text": [
      "6706.5\n"
     ]
    }
   ],
   "source": [
    "rabatt = 0.85\n",
    "if checked_price > 5000 :\n",
    "   print(checked_price * rabatt)   #得到最終所需的總金額"
   ]
  },
  {
   "cell_type": "code",
   "execution_count": null,
   "metadata": {},
   "outputs": [],
   "source": [
    "#Sean最終所需 6706.5元 "
   ]
  }
 ],
 "metadata": {
  "kernelspec": {
   "display_name": "Python 3",
   "language": "python",
   "name": "python3"
  },
  "language_info": {
   "codemirror_mode": {
    "name": "ipython",
    "version": 3
   },
   "file_extension": ".py",
   "mimetype": "text/x-python",
   "name": "python",
   "nbconvert_exporter": "python",
   "pygments_lexer": "ipython3",
   "version": "3.8.5"
  }
 },
 "nbformat": 4,
 "nbformat_minor": 4
}
