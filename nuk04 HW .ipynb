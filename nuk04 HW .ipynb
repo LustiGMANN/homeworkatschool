{
 "cells": [
  {
   "cell_type": "code",
   "execution_count": 77,
   "metadata": {},
   "outputs": [],
   "source": [
    "#小晶最近想要鍛鍊身體，可是她很怕累，所以她想透過所選的五個運動來找尋最適合的那一種\n",
    "#對她而言　疲憊感是常人的1.5倍　心率承受是常人的1.5倍　肌力耐力跟一般人一樣\n",
    "#各種運動每單位消耗的熱量\n",
    "#試驗樣本60公斤的人\n",
    "#5種運動:籃球 羽球 重訓 游泳 跑步"
   ]
  },
  {
   "cell_type": "code",
   "execution_count": 78,
   "metadata": {},
   "outputs": [],
   "source": [
    "import numpy as np\n",
    "import pandas as pd\n",
    "import random as rd"
   ]
  },
  {
   "cell_type": "code",
   "execution_count": 79,
   "metadata": {},
   "outputs": [],
   "source": [
    "sportheat = {'basketball' : 225 , 'badminton' : 306 , 'workout' : 360 , 'swim' : 216 , 'run' : 200}  #每單位消耗的熱量"
   ]
  },
  {
   "cell_type": "code",
   "execution_count": 80,
   "metadata": {},
   "outputs": [],
   "source": [
    "basketball = {'heart' : 3 , 'muscles' : 1 , 'tired' : 5}\n",
    "badminton = {'heart' : 2 , 'muscles' : 3 , 'tired' : 3 }\n",
    "workout = {'heart' : 1 , 'muscles' : 5 , 'tired' : 5}\n",
    "swim = {'heart' : 5 , 'muscles' : 1 , 'tired' : 2}\n",
    "run = {'heart' : 4 , 'muscles' : 2 , 'tired' : 4} "
   ]
  },
  {
   "cell_type": "code",
   "execution_count": 81,
   "metadata": {},
   "outputs": [
    {
     "data": {
      "text/plain": [
       "360"
      ]
     },
     "execution_count": 81,
     "metadata": {},
     "output_type": "execute_result"
    }
   ],
   "source": [
    "max(sportheat.values())  #workout消耗的熱量"
   ]
  },
  {
   "cell_type": "code",
   "execution_count": 82,
   "metadata": {},
   "outputs": [
    {
     "data": {
      "text/plain": [
       "200"
      ]
     },
     "execution_count": 82,
     "metadata": {},
     "output_type": "execute_result"
    }
   ],
   "source": [
    "min(sportheat.values())  #swim消耗的熱量"
   ]
  },
  {
   "cell_type": "code",
   "execution_count": 83,
   "metadata": {},
   "outputs": [
    {
     "data": {
      "text/html": [
       "<div>\n",
       "<style scoped>\n",
       "    .dataframe tbody tr th:only-of-type {\n",
       "        vertical-align: middle;\n",
       "    }\n",
       "\n",
       "    .dataframe tbody tr th {\n",
       "        vertical-align: top;\n",
       "    }\n",
       "\n",
       "    .dataframe thead th {\n",
       "        text-align: right;\n",
       "    }\n",
       "</style>\n",
       "<table border=\"1\" class=\"dataframe\">\n",
       "  <thead>\n",
       "    <tr style=\"text-align: right;\">\n",
       "      <th></th>\n",
       "      <th>Sport</th>\n",
       "      <th>heart</th>\n",
       "      <th>muscles</th>\n",
       "      <th>tired</th>\n",
       "    </tr>\n",
       "  </thead>\n",
       "  <tbody>\n",
       "    <tr>\n",
       "      <th>0</th>\n",
       "      <td>basketball</td>\n",
       "      <td>3</td>\n",
       "      <td>1</td>\n",
       "      <td>5</td>\n",
       "    </tr>\n",
       "    <tr>\n",
       "      <th>1</th>\n",
       "      <td>badminton</td>\n",
       "      <td>2</td>\n",
       "      <td>3</td>\n",
       "      <td>3</td>\n",
       "    </tr>\n",
       "    <tr>\n",
       "      <th>2</th>\n",
       "      <td>workout</td>\n",
       "      <td>1</td>\n",
       "      <td>5</td>\n",
       "      <td>5</td>\n",
       "    </tr>\n",
       "    <tr>\n",
       "      <th>3</th>\n",
       "      <td>swim</td>\n",
       "      <td>5</td>\n",
       "      <td>1</td>\n",
       "      <td>2</td>\n",
       "    </tr>\n",
       "    <tr>\n",
       "      <th>4</th>\n",
       "      <td>run</td>\n",
       "      <td>4</td>\n",
       "      <td>2</td>\n",
       "      <td>4</td>\n",
       "    </tr>\n",
       "  </tbody>\n",
       "</table>\n",
       "</div>"
      ],
      "text/plain": [
       "        Sport heart muscles tired\n",
       "0  basketball     3       1     5\n",
       "1   badminton     2       3     3\n",
       "2     workout     1       5     5\n",
       "3        swim     5       1     2\n",
       "4         run     4       2     4"
      ]
     },
     "execution_count": 83,
     "metadata": {},
     "output_type": "execute_result"
    }
   ],
   "source": [
    "A1 = pd.DataFrame([['basketball' , '3' , '1' , '5'] , ['badminton' , '2' , '3' , '3'] , ['workout' , '1' , '5' , '5'] , ['swim' , '5' , '1' , '2'] , ['run' , '4' , '2' , '4' ]] , columns = ['Sport' , 'heart' , 'muscles' , 'tired'])\n",
    "A1"
   ]
  },
  {
   "cell_type": "code",
   "execution_count": 84,
   "metadata": {},
   "outputs": [],
   "source": [
    "#以心律來看　游泳最大，健身最低\n",
    "#以肌力來看　健身最大，籃球和游泳最低\n",
    "#以疲勞感來看　籃球和健身最大，游泳最低"
   ]
  },
  {
   "cell_type": "code",
   "execution_count": 85,
   "metadata": {},
   "outputs": [],
   "source": [
    "#calculate the percentage to choose what suits the most"
   ]
  },
  {
   "cell_type": "code",
   "execution_count": 86,
   "metadata": {},
   "outputs": [],
   "source": [
    "basketballsuits = 225/(3 * 1.5 + 1 * 1 - 5 * 1.5)\n",
    "badmintionsuits = 306/(2 * 1.5 + 3 * 1 - 3 * 1.5)\n",
    "workoutsuits = 360/(1 * 1.5 + 5 * 1 - 5 * 1.5)\n",
    "swimsuits = 216/(5 * 1.5 + 1 * 1 - 2 * 1.5)\n",
    "runsuits = 200/(4 * 1.5 + 2 * 1 - 4 * 1.5)"
   ]
  },
  {
   "cell_type": "code",
   "execution_count": 87,
   "metadata": {},
   "outputs": [
    {
     "name": "stdout",
     "output_type": "stream",
     "text": [
      "-112.5\n",
      "204.0\n",
      "-360.0\n",
      "39.27272727272727\n",
      "100.0\n"
     ]
    }
   ],
   "source": [
    "print(basketballsuits)\n",
    "print(badmintionsuits)\n",
    "print(workoutsuits)\n",
    "print(swimsuits)\n",
    "print(runsuits)"
   ]
  },
  {
   "cell_type": "code",
   "execution_count": 88,
   "metadata": {},
   "outputs": [],
   "source": [
    "#羽球最適合小晶　健身則最不適合小晶"
   ]
  },
  {
   "cell_type": "code",
   "execution_count": null,
   "metadata": {},
   "outputs": [],
   "source": []
  }
 ],
 "metadata": {
  "kernelspec": {
   "display_name": "Python 3",
   "language": "python",
   "name": "python3"
  },
  "language_info": {
   "codemirror_mode": {
    "name": "ipython",
    "version": 3
   },
   "file_extension": ".py",
   "mimetype": "text/x-python",
   "name": "python",
   "nbconvert_exporter": "python",
   "pygments_lexer": "ipython3",
   "version": "3.8.5"
  }
 },
 "nbformat": 4,
 "nbformat_minor": 4
}
