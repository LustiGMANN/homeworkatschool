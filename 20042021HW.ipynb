{
 "cells": [
  {
   "cell_type": "code",
   "execution_count": 1,
   "metadata": {},
   "outputs": [],
   "source": [
    "import numpy as np\n",
    "import pandas as pd"
   ]
  },
  {
   "cell_type": "code",
   "execution_count": 2,
   "metadata": {},
   "outputs": [],
   "source": [
    "#課堂練習1\n",
    "#議題 : 代購\n",
    "#規劃情境 :Sean在網路上看到許多想要買的商品，無奈只有在國外才能買得到，因此他想透過代購來取得\n",
    "#定義問題 : Sean需要知道自己需要準備多少錢給想要的所有商品\n",
    "#程式思維 : 利用加減乘除與指派變數來算出最後需要的總金額"
   ]
  },
  {
   "cell_type": "code",
   "execution_count": 3,
   "metadata": {},
   "outputs": [],
   "source": [
    "#程式碼如下 :\n",
    "adidas_backpack = 1500\n",
    "adidas_jacket = 1200\n",
    "adidas_shoes = 2200\n",
    "tax = 0.6\n",
    "fee = 50\n",
    "rabatt = 0.85  #if the total price is over 5000, have the rabatt."
   ]
  },
  {
   "cell_type": "code",
   "execution_count": 4,
   "metadata": {},
   "outputs": [
    {
     "name": "stdout",
     "output_type": "stream",
     "text": [
      "4900\n"
     ]
    }
   ],
   "source": [
    "print(adidas_backpack + adidas_jacket + adidas_shoes)  #original price in total"
   ]
  },
  {
   "cell_type": "code",
   "execution_count": 5,
   "metadata": {},
   "outputs": [
    {
     "data": {
      "text/plain": [
       "4900"
      ]
     },
     "execution_count": 5,
     "metadata": {},
     "output_type": "execute_result"
    }
   ],
   "source": [
    "original_price = adidas_backpack + adidas_jacket + adidas_shoes\n",
    "original_price"
   ]
  },
  {
   "cell_type": "code",
   "execution_count": 6,
   "metadata": {},
   "outputs": [
    {
     "data": {
      "text/plain": [
       "7890.0"
      ]
     },
     "execution_count": 6,
     "metadata": {},
     "output_type": "execute_result"
    }
   ],
   "source": [
    "checked_price = original_price*1.6 + fee    #total price without rabatt\n",
    "checked_price"
   ]
  },
  {
   "cell_type": "code",
   "execution_count": 7,
   "metadata": {},
   "outputs": [
    {
     "name": "stdout",
     "output_type": "stream",
     "text": [
      "6706.5\n"
     ]
    }
   ],
   "source": [
    "rabatt = 0.85\n",
    "if checked_price > 5000 :\n",
    "   print(checked_price * rabatt)   #得到最終所需的總金額\n",
    "#Sean最終所需 6706.5元 "
   ]
  },
  {
   "cell_type": "code",
   "execution_count": null,
   "metadata": {},
   "outputs": [],
   "source": []
  },
  {
   "cell_type": "code",
   "execution_count": 8,
   "metadata": {},
   "outputs": [],
   "source": [
    "#課堂練習2"
   ]
  },
  {
   "cell_type": "code",
   "execution_count": 9,
   "metadata": {},
   "outputs": [],
   "source": [
    "#小晶最近想要鍛鍊身體，可是她很怕累，所以她想透過所選的五個運動來找尋最適合的那一種\n",
    "#對她而言　疲憊感是常人的1.5倍　心率承受是常人的1.5倍　肌力耐力跟一般人一樣\n",
    "#各種運動每單位消耗的熱量\n",
    "#試驗樣本60公斤的人\n",
    "#5種運動:籃球 羽球 重訓 游泳 跑步"
   ]
  },
  {
   "cell_type": "code",
   "execution_count": 10,
   "metadata": {},
   "outputs": [],
   "source": [
    "sportheat = {'basketball' : 225 , 'badminton' : 306 , 'workout' : 360 , 'swim' : 216 , 'run' : 200}  #每單位消耗的熱量"
   ]
  },
  {
   "cell_type": "code",
   "execution_count": 11,
   "metadata": {},
   "outputs": [],
   "source": [
    "basketball = {'heart' : 3 , 'muscles' : 1 , 'tired' : 5}\n",
    "badminton = {'heart' : 2 , 'muscles' : 3 , 'tired' : 3 }\n",
    "workout = {'heart' : 1 , 'muscles' : 5 , 'tired' : 5}\n",
    "swim = {'heart' : 5 , 'muscles' : 1 , 'tired' : 2}\n",
    "run = {'heart' : 4 , 'muscles' : 2 , 'tired' : 4} "
   ]
  },
  {
   "cell_type": "code",
   "execution_count": 12,
   "metadata": {},
   "outputs": [
    {
     "data": {
      "text/plain": [
       "360"
      ]
     },
     "execution_count": 12,
     "metadata": {},
     "output_type": "execute_result"
    }
   ],
   "source": [
    "max(sportheat.values())  #workout消耗的熱量"
   ]
  },
  {
   "cell_type": "code",
   "execution_count": 13,
   "metadata": {},
   "outputs": [
    {
     "data": {
      "text/plain": [
       "200"
      ]
     },
     "execution_count": 13,
     "metadata": {},
     "output_type": "execute_result"
    }
   ],
   "source": [
    "min(sportheat.values())  #swim消耗的熱量"
   ]
  },
  {
   "cell_type": "code",
   "execution_count": 14,
   "metadata": {},
   "outputs": [
    {
     "name": "stdout",
     "output_type": "stream",
     "text": [
      "-112.5\n",
      "204.0\n",
      "-360.0\n",
      "39.27272727272727\n",
      "100.0\n"
     ]
    }
   ],
   "source": [
    "basketballsuits = 225/(3 * 1.5 + 1 * 1 - 5 * 1.5)\n",
    "badmintionsuits = 306/(2 * 1.5 + 3 * 1 - 3 * 1.5)\n",
    "workoutsuits = 360/(1 * 1.5 + 5 * 1 - 5 * 1.5)\n",
    "swimsuits = 216/(5 * 1.5 + 1 * 1 - 2 * 1.5)\n",
    "runsuits = 200/(4 * 1.5 + 2 * 1 - 4 * 1.5)\n",
    "print(basketballsuits)\n",
    "print(badmintionsuits)\n",
    "print(workoutsuits)\n",
    "print(swimsuits)\n",
    "print(runsuits)"
   ]
  },
  {
   "cell_type": "code",
   "execution_count": 15,
   "metadata": {},
   "outputs": [],
   "source": [
    "#羽球最適合小晶　健身則最不適合小晶"
   ]
  },
  {
   "cell_type": "code",
   "execution_count": null,
   "metadata": {},
   "outputs": [],
   "source": []
  }
 ],
 "metadata": {
  "kernelspec": {
   "display_name": "Python 3",
   "language": "python",
   "name": "python3"
  },
  "language_info": {
   "codemirror_mode": {
    "name": "ipython",
    "version": 3
   },
   "file_extension": ".py",
   "mimetype": "text/x-python",
   "name": "python",
   "nbconvert_exporter": "python",
   "pygments_lexer": "ipython3",
   "version": "3.8.5"
  }
 },
 "nbformat": 4,
 "nbformat_minor": 4
}
